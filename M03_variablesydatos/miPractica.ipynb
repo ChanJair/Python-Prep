{
 "cells": [
  {
   "cell_type": "code",
   "execution_count": 7,
   "metadata": {},
   "outputs": [
    {
     "name": "stdout",
     "output_type": "stream",
     "text": [
      "a y b son iguales\n"
     ]
    }
   ],
   "source": [
    "a = 7\n",
    "b = 7\n",
    "\n",
    "if a < b:\n",
    "    print('a es menor que b')\n",
    "elif a > b:\n",
    "    print('a es mayor que b')\n",
    "else:\n",
    "    print('a y b son iguales')"
   ]
  },
  {
   "cell_type": "code",
   "execution_count": 13,
   "metadata": {},
   "outputs": [
    {
     "name": "stdout",
     "output_type": "stream",
     "text": [
      "1\n",
      "2\n",
      "3\n",
      "4\n",
      "5\n"
     ]
    }
   ],
   "source": [
    "numeros=[0,1,2,3,4]\n",
    "for num in numeros:\n",
    "    suma=num+1\n",
    "    print(suma)"
   ]
  },
  {
   "cell_type": "code",
   "execution_count": 15,
   "metadata": {},
   "outputs": [
    {
     "name": "stdout",
     "output_type": "stream",
     "text": [
      "Esto es 3\n"
     ]
    }
   ],
   "source": [
    "a=1\n",
    "b=2\n",
    "print('Esto es',a+b)"
   ]
  },
  {
   "cell_type": "code",
   "execution_count": 22,
   "metadata": {},
   "outputs": [
    {
     "name": "stdout",
     "output_type": "stream",
     "text": [
      "Este numero es: 1\n",
      "Este numero es: 3\n",
      "Este numero es: 5\n",
      "Este numero es: 7\n",
      "Este numero es: 9\n"
     ]
    }
   ],
   "source": [
    "num=1\n",
    "while num<10:\n",
    "    print('Este numero es:',num)\n",
    "    num=num+1\n",
    "    num=num+1\n"
   ]
  },
  {
   "cell_type": "code",
   "execution_count": null,
   "metadata": {},
   "outputs": [],
   "source": []
  }
 ],
 "metadata": {
  "kernelspec": {
   "display_name": "Python 3",
   "language": "python",
   "name": "python3"
  },
  "language_info": {
   "codemirror_mode": {
    "name": "ipython",
    "version": 3
   },
   "file_extension": ".py",
   "mimetype": "text/x-python",
   "name": "python",
   "nbconvert_exporter": "python",
   "pygments_lexer": "ipython3",
   "version": "3.11.4"
  },
  "orig_nbformat": 4
 },
 "nbformat": 4,
 "nbformat_minor": 2
}
