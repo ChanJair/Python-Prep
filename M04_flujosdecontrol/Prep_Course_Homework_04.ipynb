{
 "cells": [
  {
   "attachments": {},
   "cell_type": "markdown",
   "metadata": {},
   "source": [
    "## Flujos de Control"
   ]
  },
  {
   "attachments": {},
   "cell_type": "markdown",
   "metadata": {},
   "source": [
    "1) Crear una variable que contenga un elemento del conjunto de números enteros y luego imprimir por pantalla si es mayor o menor a cero"
   ]
  },
  {
   "cell_type": "code",
   "execution_count": 2,
   "metadata": {},
   "outputs": [
    {
     "name": "stdout",
     "output_type": "stream",
     "text": [
      "-60.0 es menor que 0\n"
     ]
    }
   ],
   "source": [
    "x=float(input('Escribe un numero: '))\n",
    "if x>=0:\n",
    "    print(x,'es mayor que 0')\n",
    "else:\n",
    "    print(x,'es menor que 0')"
   ]
  },
  {
   "attachments": {},
   "cell_type": "markdown",
   "metadata": {},
   "source": [
    "2) Crear dos variables y un condicional que informe si son del mismo tipo de dato"
   ]
  },
  {
   "cell_type": "code",
   "execution_count": 3,
   "metadata": {},
   "outputs": [
    {
     "name": "stdout",
     "output_type": "stream",
     "text": [
      "2 es diferente 2\n"
     ]
    }
   ],
   "source": [
    "x=2\n",
    "y='2'\n",
    "if x==y:\n",
    "    print(x,'es igual a',y)\n",
    "elif x!=y:\n",
    "    print(x,'es diferente',y)"
   ]
  },
  {
   "attachments": {},
   "cell_type": "markdown",
   "metadata": {},
   "source": [
    "3) Para los valores enteros del 1 al 20, imprimir por pantalla si es par o impar"
   ]
  },
  {
   "cell_type": "code",
   "execution_count": 11,
   "metadata": {},
   "outputs": [
    {
     "name": "stdout",
     "output_type": "stream",
     "text": [
      "El 1 es un numero impar\n",
      "El 2 es un numero par\n",
      "El 3 es un numero impar\n",
      "El 4 es un numero par\n",
      "El 5 es un numero impar\n",
      "El 6 es un numero par\n",
      "El 7 es un numero impar\n",
      "El 8 es un numero par\n",
      "El 9 es un numero impar\n",
      "El 10 es un numero par\n",
      "El 11 es un numero impar\n",
      "El 12 es un numero par\n",
      "El 13 es un numero impar\n",
      "El 14 es un numero par\n",
      "El 15 es un numero impar\n",
      "El 16 es un numero par\n",
      "El 17 es un numero impar\n",
      "El 18 es un numero par\n",
      "El 19 es un numero impar\n",
      "El 20 es un numero par\n"
     ]
    }
   ],
   "source": [
    "for valores in range(1,21):\n",
    "    if valores % 2 == 0:\n",
    "        print ('El',valores,'es un numero par')\n",
    "    elif valores % 2 != 0:\n",
    "        print('El',valores,'es un numero impar')\n"
   ]
  },
  {
   "attachments": {},
   "cell_type": "markdown",
   "metadata": {},
   "source": [
    "4) En un ciclo for mostrar para los valores entre 0 y 5 el resultado de elevarlo a la potencia igual a 3"
   ]
  },
  {
   "cell_type": "code",
   "execution_count": 19,
   "metadata": {},
   "outputs": [
    {
     "name": "stdout",
     "output_type": "stream",
     "text": [
      "El numero: 0 elevado a la potencia igual a 3, es:  0\n",
      "El numero: 1 elevado a la potencia igual a 3, es:  1\n",
      "El numero: 2 elevado a la potencia igual a 3, es:  8\n",
      "El numero: 3 elevado a la potencia igual a 3, es:  27\n",
      "El numero: 4 elevado a la potencia igual a 3, es:  64\n",
      "El numero: 5 elevado a la potencia igual a 3, es:  125\n"
     ]
    }
   ],
   "source": [
    "num=range(0,6)\n",
    "for ciclo in num:\n",
    "    potencia=ciclo**3\n",
    "    print('El numero:',ciclo,'elevado a la potencia igual a 3, es: ',potencia)"
   ]
  },
  {
   "attachments": {},
   "cell_type": "markdown",
   "metadata": {},
   "source": [
    "5) Crear una variable que contenga un número entero y realizar un ciclo for la misma cantidad de ciclos"
   ]
  },
  {
   "cell_type": "code",
   "execution_count": 6,
   "metadata": {},
   "outputs": [
    {
     "name": "stdout",
     "output_type": "stream",
     "text": [
      "1\n",
      "2\n",
      "3\n",
      "4\n",
      "5\n"
     ]
    }
   ],
   "source": [
    "x=int(input('Escribe un numero:'))\n",
    "for ciclo in range(1,x+1):\n",
    "    print(ciclo)"
   ]
  },
  {
   "attachments": {},
   "cell_type": "markdown",
   "metadata": {},
   "source": [
    "6) Utilizar un ciclo while para realizar el factorial de un número guardado en una variable, sólo si la variable contiene un número entero mayor a 0"
   ]
  },
  {
   "cell_type": "code",
   "execution_count": 6,
   "metadata": {},
   "outputs": [
    {
     "name": "stdout",
     "output_type": "stream",
     "text": [
      "El factorial de 5 es: 120\n"
     ]
    }
   ],
   "source": [
    "x=int(input('Escribe un numero entero:'))\n",
    "fac=1\n",
    "y=x\n",
    "while x>0:\n",
    "    fac*=x\n",
    "    x-=1\n",
    "print('El factorial de',y,'es:',fac)\n"
   ]
  },
  {
   "attachments": {},
   "cell_type": "markdown",
   "metadata": {},
   "source": [
    "7) Crear un ciclo for dentro de un ciclo while"
   ]
  },
  {
   "cell_type": "code",
   "execution_count": 26,
   "metadata": {},
   "outputs": [
    {
     "name": "stdout",
     "output_type": "stream",
     "text": [
      "1 \n",
      "1 2 \n",
      "1 2 3 \n",
      "1 2 3 4 \n",
      "1 2 3 4 5 \n",
      "1 2 3 4 5 6 \n",
      "1 2 3 4 5 6 7 \n",
      "1 2 3 4 5 6 7 8 \n",
      "1 2 3 4 5 6 7 8 9 \n"
     ]
    }
   ],
   "source": [
    "x=1\n",
    "while x<10:\n",
    "    for y in range(1,x+1):\n",
    "        print(y, end=' ')\n",
    "    x+=1\n",
    "    print()"
   ]
  },
  {
   "attachments": {},
   "cell_type": "markdown",
   "metadata": {},
   "source": [
    "8) Crear un ciclo while dentro de un ciclo for"
   ]
  },
  {
   "cell_type": "code",
   "execution_count": 1,
   "metadata": {},
   "outputs": [
    {
     "name": "stdout",
     "output_type": "stream",
     "text": [
      "1 2 3 4 5 6 7 8 9 \n",
      "2 3 4 5 6 7 8 9 \n",
      "3 4 5 6 7 8 9 \n",
      "4 5 6 7 8 9 \n",
      "5 6 7 8 9 \n",
      "6 7 8 9 \n",
      "7 8 9 \n",
      "8 9 \n",
      "9 \n"
     ]
    }
   ],
   "source": [
    "for x in range(1,10):\n",
    "    while x<10:\n",
    "        print(x, end=' ')\n",
    "        x+=1\n",
    "    print()"
   ]
  },
  {
   "attachments": {},
   "cell_type": "markdown",
   "metadata": {},
   "source": [
    "9) Imprimir los números primos existentes entre 0 y 30"
   ]
  },
  {
   "cell_type": "code",
   "execution_count": 30,
   "metadata": {},
   "outputs": [
    {
     "name": "stdout",
     "output_type": "stream",
     "text": [
      "3 5 7 11 13 17 19 23 29 "
     ]
    }
   ],
   "source": [
    "for x in range(2,31):\n",
    "    y=2\n",
    "    while x%y != 0:\n",
    "        y+=1\n",
    "        if x==y:\n",
    "            print(x, end=' ')\n",
    "        \n",
    "\n",
    "    "
   ]
  },
  {
   "attachments": {},
   "cell_type": "markdown",
   "metadata": {},
   "source": [
    "10) ¿Se puede mejorar el proceso del punto 9? Utilizar las sentencias break y/ó continue para tal fin"
   ]
  },
  {
   "cell_type": "code",
   "execution_count": 62,
   "metadata": {},
   "outputs": [
    {
     "name": "stdout",
     "output_type": "stream",
     "text": [
      "3 5 7 11 13 17 19 23 29 \n",
      "Ciclos: 107\n"
     ]
    }
   ],
   "source": [
    "contador=0\n",
    "for x in range(2,31):\n",
    "    y=2\n",
    "    while x%y != 0:\n",
    "        y+=1\n",
    "        if x==y:\n",
    "            print(x, end=' ')\n",
    "            break\n",
    "        contador+=1\n",
    "print('\\nCiclos:',contador)"
   ]
  },
  {
   "attachments": {},
   "cell_type": "markdown",
   "metadata": {},
   "source": [
    "11) En los puntos 9 y 10, se diseño un código que encuentra números primos y además se lo optimizó. ¿Es posible saber en qué medida se optimizó?"
   ]
  },
  {
   "cell_type": "code",
   "execution_count": 80,
   "metadata": {},
   "outputs": [
    {
     "name": "stdout",
     "output_type": "stream",
     "text": [
      "         Ciclos sin sentencia: 116\n",
      "         Ciclos con sentencia 107\n",
      "Tu ahorro es de: 0.9 %\n"
     ]
    }
   ],
   "source": [
    "contador_sin=0\n",
    "for x in range(2,31):\n",
    "    y=2\n",
    "    while x%y != 0:\n",
    "        y+=1\n",
    "        if x==y:\n",
    "            print(end=' ')            \n",
    "        contador_sin+=1\n",
    "print('Ciclos sin sentencia:',contador_sin)\n",
    "\n",
    "contador_con=0\n",
    "for x in range(2,31):\n",
    "    y=2\n",
    "    while x%y != 0:\n",
    "        y+=1\n",
    "        if x==y:\n",
    "            print(end=' ')\n",
    "            break\n",
    "        contador_con+=1\n",
    "print('Ciclos con sentencia',contador_con)\n",
    "\n",
    "print('Tu ahorro es de:',round((contador_con/contador_sin),1),'%')\n"
   ]
  },
  {
   "attachments": {},
   "cell_type": "markdown",
   "metadata": {},
   "source": [
    "12) Aplicando continue, armar un ciclo while que solo imprima los valores divisibles por 12, dentro del rango de números de 100 a 300"
   ]
  },
  {
   "cell_type": "code",
   "execution_count": 88,
   "metadata": {},
   "outputs": [
    {
     "name": "stdout",
     "output_type": "stream",
     "text": [
      "108\n",
      "120\n",
      "132\n",
      "144\n",
      "156\n",
      "168\n",
      "180\n",
      "192\n",
      "204\n",
      "216\n",
      "228\n",
      "240\n",
      "252\n",
      "264\n",
      "276\n",
      "288\n",
      "300\n"
     ]
    }
   ],
   "source": [
    "x=100\n",
    "while x<=300:\n",
    "    if x%12 != 0:\n",
    "        x+=1\n",
    "        continue\n",
    "    print(x)\n",
    "    x+=1"
   ]
  },
  {
   "attachments": {},
   "cell_type": "markdown",
   "metadata": {},
   "source": [
    "13) Utilizar la función **input()** que permite hacer ingresos por teclado, para encontrar números primos y dar la opción al usario de buscar el siguiente"
   ]
  },
  {
   "cell_type": "code",
   "execution_count": 91,
   "metadata": {},
   "outputs": [
    {
     "name": "stdout",
     "output_type": "stream",
     "text": [
      "2 es primo\n",
      "[2]\n",
      "2 es primo\n",
      "[2, 2]\n",
      "3 es primo\n",
      "[2, 2, 3]\n",
      "5 es primo\n",
      "[2, 2, 3, 5]\n",
      "7 es primo\n",
      "[2, 2, 3, 5, 7]\n",
      "Bye\n"
     ]
    }
   ],
   "source": [
    "primos=[]\n",
    "while True:\n",
    "    x=int(input('Ingresa un numero entero mayor a 2: '))\n",
    "    y=2\n",
    "    while x%y !=0:\n",
    "        y+=1\n",
    "    if x==y:\n",
    "        print(x,'es primo')\n",
    "        primos=primos+[x]\n",
    "    elif x<10:\n",
    "        print('Bye')\n",
    "        break\n",
    "    print(primos)"
   ]
  },
  {
   "attachments": {},
   "cell_type": "markdown",
   "metadata": {},
   "source": [
    "14) Crear un ciclo while que encuentre dentro del rango de 100 a 300 el primer número divisible por 3 y además múltiplo de 6"
   ]
  },
  {
   "cell_type": "code",
   "execution_count": 95,
   "metadata": {},
   "outputs": [
    {
     "name": "stdout",
     "output_type": "stream",
     "text": [
      "Tu numero es: 102\n"
     ]
    }
   ],
   "source": [
    "x=100\n",
    "y=300\n",
    "while x<=y:\n",
    "    if x%6 ==0 and x%6 ==0:\n",
    "        print('Tu numero es:',x)\n",
    "        break\n",
    "    x+=1"
   ]
  }
 ],
 "metadata": {
  "interpreter": {
   "hash": "c85384e4cb51c8b72350f3a8712cc8351fdc3955e32a27f9b60c6242ab125f01"
  },
  "kernelspec": {
   "display_name": "Python 3 (ipykernel)",
   "language": "python",
   "name": "python3"
  },
  "language_info": {
   "codemirror_mode": {
    "name": "ipython",
    "version": 3
   },
   "file_extension": ".py",
   "mimetype": "text/x-python",
   "name": "python",
   "nbconvert_exporter": "python",
   "pygments_lexer": "ipython3",
   "version": "3.11.4"
  }
 },
 "nbformat": 4,
 "nbformat_minor": 4
}
